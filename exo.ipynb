{
 "cells": [
  {
   "cell_type": "markdown",
   "id": "be6fd17d",
   "metadata": {},
   "source": [
    "# Import"
   ]
  },
  {
   "cell_type": "code",
   "execution_count": 2,
   "id": "70300490",
   "metadata": {},
   "outputs": [],
   "source": [
    "import pandas as pd\n",
    "import seaborn as sns\n",
    "import matplotlib.pyplot as plt"
   ]
  },
  {
   "cell_type": "markdown",
   "id": "adfb19a6",
   "metadata": {},
   "source": [
    "# Premiers traitements / analyses à mener"
   ]
  },
  {
   "cell_type": "markdown",
   "id": "96f5fd62",
   "metadata": {},
   "source": [
    "1 - Charger le fichier avec read_csv(). Vous devrez utiliser l’option skip_rows (voir la documentation de pandas) puis appliquer la fonction .head()"
   ]
  },
  {
   "cell_type": "code",
   "execution_count": 3,
   "id": "44165141",
   "metadata": {},
   "outputs": [
    {
     "data": {
      "text/html": [
       "<div>\n",
       "<style scoped>\n",
       "    .dataframe tbody tr th:only-of-type {\n",
       "        vertical-align: middle;\n",
       "    }\n",
       "\n",
       "    .dataframe tbody tr th {\n",
       "        vertical-align: top;\n",
       "    }\n",
       "\n",
       "    .dataframe thead th {\n",
       "        text-align: right;\n",
       "    }\n",
       "</style>\n",
       "<table border=\"1\" class=\"dataframe\">\n",
       "  <thead>\n",
       "    <tr style=\"text-align: right;\">\n",
       "      <th></th>\n",
       "      <th>pl_name</th>\n",
       "      <th>hostname</th>\n",
       "      <th>default_flag</th>\n",
       "      <th>sy_snum</th>\n",
       "      <th>sy_pnum</th>\n",
       "      <th>discoverymethod</th>\n",
       "      <th>disc_year</th>\n",
       "      <th>disc_facility</th>\n",
       "      <th>soltype</th>\n",
       "      <th>pl_controv_flag</th>\n",
       "      <th>...</th>\n",
       "      <th>sy_vmagerr2</th>\n",
       "      <th>sy_kmag</th>\n",
       "      <th>sy_kmagerr1</th>\n",
       "      <th>sy_kmagerr2</th>\n",
       "      <th>sy_gaiamag</th>\n",
       "      <th>sy_gaiamagerr1</th>\n",
       "      <th>sy_gaiamagerr2</th>\n",
       "      <th>rowupdate</th>\n",
       "      <th>pl_pubdate</th>\n",
       "      <th>releasedate</th>\n",
       "    </tr>\n",
       "  </thead>\n",
       "  <tbody>\n",
       "    <tr>\n",
       "      <th>0</th>\n",
       "      <td>11 Com b</td>\n",
       "      <td>11 Com</td>\n",
       "      <td>0</td>\n",
       "      <td>2</td>\n",
       "      <td>1</td>\n",
       "      <td>Radial Velocity</td>\n",
       "      <td>2007</td>\n",
       "      <td>Xinglong Station</td>\n",
       "      <td>Published Confirmed</td>\n",
       "      <td>0</td>\n",
       "      <td>...</td>\n",
       "      <td>-0.023</td>\n",
       "      <td>2.282</td>\n",
       "      <td>0.346</td>\n",
       "      <td>-0.346</td>\n",
       "      <td>4.44038</td>\n",
       "      <td>0.003848</td>\n",
       "      <td>-0.003848</td>\n",
       "      <td>2014-05-14</td>\n",
       "      <td>2008-01</td>\n",
       "      <td>2014-05-14</td>\n",
       "    </tr>\n",
       "    <tr>\n",
       "      <th>1</th>\n",
       "      <td>11 Com b</td>\n",
       "      <td>11 Com</td>\n",
       "      <td>0</td>\n",
       "      <td>2</td>\n",
       "      <td>1</td>\n",
       "      <td>Radial Velocity</td>\n",
       "      <td>2007</td>\n",
       "      <td>Xinglong Station</td>\n",
       "      <td>Published Confirmed</td>\n",
       "      <td>0</td>\n",
       "      <td>...</td>\n",
       "      <td>-0.023</td>\n",
       "      <td>2.282</td>\n",
       "      <td>0.346</td>\n",
       "      <td>-0.346</td>\n",
       "      <td>4.44038</td>\n",
       "      <td>0.003848</td>\n",
       "      <td>-0.003848</td>\n",
       "      <td>2014-07-23</td>\n",
       "      <td>2011-08</td>\n",
       "      <td>2014-07-23</td>\n",
       "    </tr>\n",
       "    <tr>\n",
       "      <th>2</th>\n",
       "      <td>11 Com b</td>\n",
       "      <td>11 Com</td>\n",
       "      <td>1</td>\n",
       "      <td>2</td>\n",
       "      <td>1</td>\n",
       "      <td>Radial Velocity</td>\n",
       "      <td>2007</td>\n",
       "      <td>Xinglong Station</td>\n",
       "      <td>Published Confirmed</td>\n",
       "      <td>0</td>\n",
       "      <td>...</td>\n",
       "      <td>-0.023</td>\n",
       "      <td>2.282</td>\n",
       "      <td>0.346</td>\n",
       "      <td>-0.346</td>\n",
       "      <td>4.44038</td>\n",
       "      <td>0.003848</td>\n",
       "      <td>-0.003848</td>\n",
       "      <td>2023-09-19</td>\n",
       "      <td>2023-08</td>\n",
       "      <td>2023-09-19</td>\n",
       "    </tr>\n",
       "    <tr>\n",
       "      <th>3</th>\n",
       "      <td>11 UMi b</td>\n",
       "      <td>11 UMi</td>\n",
       "      <td>1</td>\n",
       "      <td>1</td>\n",
       "      <td>1</td>\n",
       "      <td>Radial Velocity</td>\n",
       "      <td>2009</td>\n",
       "      <td>Thueringer Landessternwarte Tautenburg</td>\n",
       "      <td>Published Confirmed</td>\n",
       "      <td>0</td>\n",
       "      <td>...</td>\n",
       "      <td>-0.005</td>\n",
       "      <td>1.939</td>\n",
       "      <td>0.270</td>\n",
       "      <td>-0.270</td>\n",
       "      <td>4.56216</td>\n",
       "      <td>0.003903</td>\n",
       "      <td>-0.003903</td>\n",
       "      <td>2018-09-04</td>\n",
       "      <td>2017-03</td>\n",
       "      <td>2018-09-06</td>\n",
       "    </tr>\n",
       "    <tr>\n",
       "      <th>4</th>\n",
       "      <td>11 UMi b</td>\n",
       "      <td>11 UMi</td>\n",
       "      <td>0</td>\n",
       "      <td>1</td>\n",
       "      <td>1</td>\n",
       "      <td>Radial Velocity</td>\n",
       "      <td>2009</td>\n",
       "      <td>Thueringer Landessternwarte Tautenburg</td>\n",
       "      <td>Published Confirmed</td>\n",
       "      <td>0</td>\n",
       "      <td>...</td>\n",
       "      <td>-0.005</td>\n",
       "      <td>1.939</td>\n",
       "      <td>0.270</td>\n",
       "      <td>-0.270</td>\n",
       "      <td>4.56216</td>\n",
       "      <td>0.003903</td>\n",
       "      <td>-0.003903</td>\n",
       "      <td>2018-04-25</td>\n",
       "      <td>2009-10</td>\n",
       "      <td>2014-05-14</td>\n",
       "    </tr>\n",
       "  </tbody>\n",
       "</table>\n",
       "<p>5 rows × 92 columns</p>\n",
       "</div>"
      ],
      "text/plain": [
       "    pl_name hostname  default_flag  sy_snum  sy_pnum  discoverymethod  \\\n",
       "0  11 Com b   11 Com             0        2        1  Radial Velocity   \n",
       "1  11 Com b   11 Com             0        2        1  Radial Velocity   \n",
       "2  11 Com b   11 Com             1        2        1  Radial Velocity   \n",
       "3  11 UMi b   11 UMi             1        1        1  Radial Velocity   \n",
       "4  11 UMi b   11 UMi             0        1        1  Radial Velocity   \n",
       "\n",
       "   disc_year                           disc_facility              soltype  \\\n",
       "0       2007                        Xinglong Station  Published Confirmed   \n",
       "1       2007                        Xinglong Station  Published Confirmed   \n",
       "2       2007                        Xinglong Station  Published Confirmed   \n",
       "3       2009  Thueringer Landessternwarte Tautenburg  Published Confirmed   \n",
       "4       2009  Thueringer Landessternwarte Tautenburg  Published Confirmed   \n",
       "\n",
       "   pl_controv_flag  ... sy_vmagerr2  sy_kmag  sy_kmagerr1  sy_kmagerr2  \\\n",
       "0                0  ...      -0.023    2.282        0.346       -0.346   \n",
       "1                0  ...      -0.023    2.282        0.346       -0.346   \n",
       "2                0  ...      -0.023    2.282        0.346       -0.346   \n",
       "3                0  ...      -0.005    1.939        0.270       -0.270   \n",
       "4                0  ...      -0.005    1.939        0.270       -0.270   \n",
       "\n",
       "   sy_gaiamag  sy_gaiamagerr1  sy_gaiamagerr2   rowupdate  pl_pubdate  \\\n",
       "0     4.44038        0.003848       -0.003848  2014-05-14     2008-01   \n",
       "1     4.44038        0.003848       -0.003848  2014-07-23     2011-08   \n",
       "2     4.44038        0.003848       -0.003848  2023-09-19     2023-08   \n",
       "3     4.56216        0.003903       -0.003903  2018-09-04     2017-03   \n",
       "4     4.56216        0.003903       -0.003903  2018-04-25     2009-10   \n",
       "\n",
       "   releasedate  \n",
       "0   2014-05-14  \n",
       "1   2014-07-23  \n",
       "2   2023-09-19  \n",
       "3   2018-09-06  \n",
       "4   2014-05-14  \n",
       "\n",
       "[5 rows x 92 columns]"
      ]
     },
     "execution_count": 3,
     "metadata": {},
     "output_type": "execute_result"
    }
   ],
   "source": [
    "m = 96\n",
    "\n",
    "df = pd.read_csv(\"dataset_exoplanets.csv\",sep=\",\",skiprows=m)\n",
    "df.head()"
   ]
  },
  {
   "cell_type": "markdown",
   "id": "578d255b",
   "metadata": {},
   "source": [
    "2 - Extraire la liste du nom des colonnes du dataset."
   ]
  },
  {
   "cell_type": "code",
   "execution_count": 4,
   "id": "3017f702",
   "metadata": {},
   "outputs": [
    {
     "data": {
      "text/plain": [
       "Index(['pl_name', 'hostname', 'default_flag', 'sy_snum', 'sy_pnum',\n",
       "       'discoverymethod', 'disc_year', 'disc_facility', 'soltype',\n",
       "       'pl_controv_flag', 'pl_refname', 'pl_orbper', 'pl_orbpererr1',\n",
       "       'pl_orbpererr2', 'pl_orbperlim', 'pl_orbsmax', 'pl_orbsmaxerr1',\n",
       "       'pl_orbsmaxerr2', 'pl_orbsmaxlim', 'pl_rade', 'pl_radeerr1',\n",
       "       'pl_radeerr2', 'pl_radelim', 'pl_radj', 'pl_radjerr1', 'pl_radjerr2',\n",
       "       'pl_radjlim', 'pl_bmasse', 'pl_bmasseerr1', 'pl_bmasseerr2',\n",
       "       'pl_bmasselim', 'pl_bmassj', 'pl_bmassjerr1', 'pl_bmassjerr2',\n",
       "       'pl_bmassjlim', 'pl_bmassprov', 'pl_orbeccen', 'pl_orbeccenerr1',\n",
       "       'pl_orbeccenerr2', 'pl_orbeccenlim', 'pl_insol', 'pl_insolerr1',\n",
       "       'pl_insolerr2', 'pl_insollim', 'pl_eqt', 'pl_eqterr1', 'pl_eqterr2',\n",
       "       'pl_eqtlim', 'ttv_flag', 'st_refname', 'st_spectype', 'st_teff',\n",
       "       'st_tefferr1', 'st_tefferr2', 'st_tefflim', 'st_rad', 'st_raderr1',\n",
       "       'st_raderr2', 'st_radlim', 'st_mass', 'st_masserr1', 'st_masserr2',\n",
       "       'st_masslim', 'st_met', 'st_meterr1', 'st_meterr2', 'st_metlim',\n",
       "       'st_metratio', 'st_logg', 'st_loggerr1', 'st_loggerr2', 'st_logglim',\n",
       "       'sy_refname', 'rastr', 'ra', 'decstr', 'dec', 'sy_dist', 'sy_disterr1',\n",
       "       'sy_disterr2', 'sy_vmag', 'sy_vmagerr1', 'sy_vmagerr2', 'sy_kmag',\n",
       "       'sy_kmagerr1', 'sy_kmagerr2', 'sy_gaiamag', 'sy_gaiamagerr1',\n",
       "       'sy_gaiamagerr2', 'rowupdate', 'pl_pubdate', 'releasedate'],\n",
       "      dtype='object')"
      ]
     },
     "execution_count": 4,
     "metadata": {},
     "output_type": "execute_result"
    }
   ],
   "source": [
    "df.columns"
   ]
  },
  {
   "cell_type": "markdown",
   "id": "fadbd594",
   "metadata": {},
   "source": [
    "3 - Quelle est la taille du dataset ?"
   ]
  },
  {
   "cell_type": "code",
   "execution_count": 6,
   "id": "93a786dd",
   "metadata": {},
   "outputs": [
    {
     "name": "stdout",
     "output_type": "stream",
     "text": [
      "Taille du dataset : (Lignes, colonnes) : (38449, 92)\n"
     ]
    }
   ],
   "source": [
    "print(\"Taille du dataset : (Lignes, colonnes) :\", df.shape)"
   ]
  },
  {
   "cell_type": "markdown",
   "id": "ea10a0eb",
   "metadata": {},
   "source": [
    "4 - Filtrer les colonnes pour ne garder que des valeurs utiles"
   ]
  },
  {
   "cell_type": "code",
   "execution_count": 7,
   "id": "d7d91bd8",
   "metadata": {},
   "outputs": [
    {
     "data": {
      "text/html": [
       "<div>\n",
       "<style scoped>\n",
       "    .dataframe tbody tr th:only-of-type {\n",
       "        vertical-align: middle;\n",
       "    }\n",
       "\n",
       "    .dataframe tbody tr th {\n",
       "        vertical-align: top;\n",
       "    }\n",
       "\n",
       "    .dataframe thead th {\n",
       "        text-align: right;\n",
       "    }\n",
       "</style>\n",
       "<table border=\"1\" class=\"dataframe\">\n",
       "  <thead>\n",
       "    <tr style=\"text-align: right;\">\n",
       "      <th></th>\n",
       "      <th>pl_name</th>\n",
       "      <th>sy_snum</th>\n",
       "      <th>pl_bmassj</th>\n",
       "      <th>pl_radj</th>\n",
       "      <th>pl_orbper</th>\n",
       "      <th>pl_eqt</th>\n",
       "      <th>discoverymethod</th>\n",
       "      <th>disc_year</th>\n",
       "      <th>st_teff</th>\n",
       "      <th>st_rad</th>\n",
       "      <th>st_mass</th>\n",
       "      <th>sy_dist</th>\n",
       "      <th>pl_orbsmax</th>\n",
       "      <th>pl_insol</th>\n",
       "      <th>pl_controv_flag</th>\n",
       "    </tr>\n",
       "  </thead>\n",
       "  <tbody>\n",
       "    <tr>\n",
       "      <th>0</th>\n",
       "      <td>11 Com b</td>\n",
       "      <td>2</td>\n",
       "      <td>19.400</td>\n",
       "      <td>NaN</td>\n",
       "      <td>326.03000</td>\n",
       "      <td>NaN</td>\n",
       "      <td>Radial Velocity</td>\n",
       "      <td>2007</td>\n",
       "      <td>4742.0</td>\n",
       "      <td>19.00</td>\n",
       "      <td>2.70</td>\n",
       "      <td>93.1846</td>\n",
       "      <td>1.29000</td>\n",
       "      <td>NaN</td>\n",
       "      <td>0</td>\n",
       "    </tr>\n",
       "    <tr>\n",
       "      <th>1</th>\n",
       "      <td>11 Com b</td>\n",
       "      <td>2</td>\n",
       "      <td>17.100</td>\n",
       "      <td>NaN</td>\n",
       "      <td>NaN</td>\n",
       "      <td>NaN</td>\n",
       "      <td>Radial Velocity</td>\n",
       "      <td>2007</td>\n",
       "      <td>NaN</td>\n",
       "      <td>NaN</td>\n",
       "      <td>2.60</td>\n",
       "      <td>93.1846</td>\n",
       "      <td>1.21000</td>\n",
       "      <td>NaN</td>\n",
       "      <td>0</td>\n",
       "    </tr>\n",
       "    <tr>\n",
       "      <th>2</th>\n",
       "      <td>11 Com b</td>\n",
       "      <td>2</td>\n",
       "      <td>15.464</td>\n",
       "      <td>NaN</td>\n",
       "      <td>323.21000</td>\n",
       "      <td>NaN</td>\n",
       "      <td>Radial Velocity</td>\n",
       "      <td>2007</td>\n",
       "      <td>4874.0</td>\n",
       "      <td>13.76</td>\n",
       "      <td>2.09</td>\n",
       "      <td>93.1846</td>\n",
       "      <td>1.17800</td>\n",
       "      <td>NaN</td>\n",
       "      <td>0</td>\n",
       "    </tr>\n",
       "    <tr>\n",
       "      <th>3</th>\n",
       "      <td>11 UMi b</td>\n",
       "      <td>1</td>\n",
       "      <td>14.740</td>\n",
       "      <td>NaN</td>\n",
       "      <td>516.21997</td>\n",
       "      <td>NaN</td>\n",
       "      <td>Radial Velocity</td>\n",
       "      <td>2009</td>\n",
       "      <td>4213.0</td>\n",
       "      <td>29.79</td>\n",
       "      <td>2.78</td>\n",
       "      <td>125.3210</td>\n",
       "      <td>1.53000</td>\n",
       "      <td>NaN</td>\n",
       "      <td>0</td>\n",
       "    </tr>\n",
       "    <tr>\n",
       "      <th>4</th>\n",
       "      <td>11 UMi b</td>\n",
       "      <td>1</td>\n",
       "      <td>10.500</td>\n",
       "      <td>NaN</td>\n",
       "      <td>516.22000</td>\n",
       "      <td>NaN</td>\n",
       "      <td>Radial Velocity</td>\n",
       "      <td>2009</td>\n",
       "      <td>4340.0</td>\n",
       "      <td>24.08</td>\n",
       "      <td>1.80</td>\n",
       "      <td>125.3210</td>\n",
       "      <td>1.54000</td>\n",
       "      <td>NaN</td>\n",
       "      <td>0</td>\n",
       "    </tr>\n",
       "    <tr>\n",
       "      <th>...</th>\n",
       "      <td>...</td>\n",
       "      <td>...</td>\n",
       "      <td>...</td>\n",
       "      <td>...</td>\n",
       "      <td>...</td>\n",
       "      <td>...</td>\n",
       "      <td>...</td>\n",
       "      <td>...</td>\n",
       "      <td>...</td>\n",
       "      <td>...</td>\n",
       "      <td>...</td>\n",
       "      <td>...</td>\n",
       "      <td>...</td>\n",
       "      <td>...</td>\n",
       "      <td>...</td>\n",
       "    </tr>\n",
       "    <tr>\n",
       "      <th>38444</th>\n",
       "      <td>ups And d</td>\n",
       "      <td>2</td>\n",
       "      <td>4.132</td>\n",
       "      <td>NaN</td>\n",
       "      <td>1276.46000</td>\n",
       "      <td>NaN</td>\n",
       "      <td>Radial Velocity</td>\n",
       "      <td>1999</td>\n",
       "      <td>NaN</td>\n",
       "      <td>1.56</td>\n",
       "      <td>1.30</td>\n",
       "      <td>13.4054</td>\n",
       "      <td>2.51329</td>\n",
       "      <td>NaN</td>\n",
       "      <td>0</td>\n",
       "    </tr>\n",
       "    <tr>\n",
       "      <th>38445</th>\n",
       "      <td>ups Leo b</td>\n",
       "      <td>1</td>\n",
       "      <td>0.510</td>\n",
       "      <td>NaN</td>\n",
       "      <td>385.20000</td>\n",
       "      <td>NaN</td>\n",
       "      <td>Radial Velocity</td>\n",
       "      <td>2021</td>\n",
       "      <td>4836.0</td>\n",
       "      <td>11.22</td>\n",
       "      <td>1.48</td>\n",
       "      <td>52.5973</td>\n",
       "      <td>1.18000</td>\n",
       "      <td>NaN</td>\n",
       "      <td>0</td>\n",
       "    </tr>\n",
       "    <tr>\n",
       "      <th>38446</th>\n",
       "      <td>xi Aql b</td>\n",
       "      <td>1</td>\n",
       "      <td>2.020</td>\n",
       "      <td>NaN</td>\n",
       "      <td>NaN</td>\n",
       "      <td>NaN</td>\n",
       "      <td>Radial Velocity</td>\n",
       "      <td>2007</td>\n",
       "      <td>NaN</td>\n",
       "      <td>NaN</td>\n",
       "      <td>1.40</td>\n",
       "      <td>56.1858</td>\n",
       "      <td>0.58000</td>\n",
       "      <td>NaN</td>\n",
       "      <td>0</td>\n",
       "    </tr>\n",
       "    <tr>\n",
       "      <th>38447</th>\n",
       "      <td>xi Aql b</td>\n",
       "      <td>1</td>\n",
       "      <td>2.800</td>\n",
       "      <td>NaN</td>\n",
       "      <td>136.75000</td>\n",
       "      <td>NaN</td>\n",
       "      <td>Radial Velocity</td>\n",
       "      <td>2007</td>\n",
       "      <td>4780.0</td>\n",
       "      <td>12.00</td>\n",
       "      <td>2.20</td>\n",
       "      <td>56.1858</td>\n",
       "      <td>0.68000</td>\n",
       "      <td>NaN</td>\n",
       "      <td>0</td>\n",
       "    </tr>\n",
       "    <tr>\n",
       "      <th>38448</th>\n",
       "      <td>xi Aql b</td>\n",
       "      <td>1</td>\n",
       "      <td>1.941</td>\n",
       "      <td>NaN</td>\n",
       "      <td>136.97000</td>\n",
       "      <td>NaN</td>\n",
       "      <td>Radial Velocity</td>\n",
       "      <td>2007</td>\n",
       "      <td>4841.0</td>\n",
       "      <td>10.86</td>\n",
       "      <td>1.74</td>\n",
       "      <td>56.1858</td>\n",
       "      <td>0.62500</td>\n",
       "      <td>NaN</td>\n",
       "      <td>0</td>\n",
       "    </tr>\n",
       "  </tbody>\n",
       "</table>\n",
       "<p>38449 rows × 15 columns</p>\n",
       "</div>"
      ],
      "text/plain": [
       "         pl_name  sy_snum  pl_bmassj  pl_radj   pl_orbper  pl_eqt  \\\n",
       "0       11 Com b        2     19.400      NaN   326.03000     NaN   \n",
       "1       11 Com b        2     17.100      NaN         NaN     NaN   \n",
       "2       11 Com b        2     15.464      NaN   323.21000     NaN   \n",
       "3       11 UMi b        1     14.740      NaN   516.21997     NaN   \n",
       "4       11 UMi b        1     10.500      NaN   516.22000     NaN   \n",
       "...          ...      ...        ...      ...         ...     ...   \n",
       "38444  ups And d        2      4.132      NaN  1276.46000     NaN   \n",
       "38445  ups Leo b        1      0.510      NaN   385.20000     NaN   \n",
       "38446   xi Aql b        1      2.020      NaN         NaN     NaN   \n",
       "38447   xi Aql b        1      2.800      NaN   136.75000     NaN   \n",
       "38448   xi Aql b        1      1.941      NaN   136.97000     NaN   \n",
       "\n",
       "       discoverymethod  disc_year  st_teff  st_rad  st_mass   sy_dist  \\\n",
       "0      Radial Velocity       2007   4742.0   19.00     2.70   93.1846   \n",
       "1      Radial Velocity       2007      NaN     NaN     2.60   93.1846   \n",
       "2      Radial Velocity       2007   4874.0   13.76     2.09   93.1846   \n",
       "3      Radial Velocity       2009   4213.0   29.79     2.78  125.3210   \n",
       "4      Radial Velocity       2009   4340.0   24.08     1.80  125.3210   \n",
       "...                ...        ...      ...     ...      ...       ...   \n",
       "38444  Radial Velocity       1999      NaN    1.56     1.30   13.4054   \n",
       "38445  Radial Velocity       2021   4836.0   11.22     1.48   52.5973   \n",
       "38446  Radial Velocity       2007      NaN     NaN     1.40   56.1858   \n",
       "38447  Radial Velocity       2007   4780.0   12.00     2.20   56.1858   \n",
       "38448  Radial Velocity       2007   4841.0   10.86     1.74   56.1858   \n",
       "\n",
       "       pl_orbsmax  pl_insol  pl_controv_flag  \n",
       "0         1.29000       NaN                0  \n",
       "1         1.21000       NaN                0  \n",
       "2         1.17800       NaN                0  \n",
       "3         1.53000       NaN                0  \n",
       "4         1.54000       NaN                0  \n",
       "...           ...       ...              ...  \n",
       "38444     2.51329       NaN                0  \n",
       "38445     1.18000       NaN                0  \n",
       "38446     0.58000       NaN                0  \n",
       "38447     0.68000       NaN                0  \n",
       "38448     0.62500       NaN                0  \n",
       "\n",
       "[38449 rows x 15 columns]"
      ]
     },
     "execution_count": 7,
     "metadata": {},
     "output_type": "execute_result"
    }
   ],
   "source": [
    "list_columns = [\"pl_name\", \"sy_snum\", \"pl_bmassj\", \"pl_radj\", \"pl_orbper\", \"pl_eqt\", \"discoverymethod\",\"disc_year\", \"st_teff\", \"st_rad\", \"st_mass\", \"sy_dist\", \"pl_orbsmax\", \"pl_insol\", 'pl_controv_flag']\n",
    "df = df[list_columns]\n",
    "df"
   ]
  },
  {
   "cell_type": "markdown",
   "id": "17f7913e",
   "metadata": {},
   "source": [
    "5 - Renommer les colonnes pour qu’elles aient des noms plus explicites, si besoin."
   ]
  },
  {
   "cell_type": "code",
   "execution_count": 8,
   "id": "779a1bb3",
   "metadata": {},
   "outputs": [
    {
     "data": {
      "text/html": [
       "<div>\n",
       "<style scoped>\n",
       "    .dataframe tbody tr th:only-of-type {\n",
       "        vertical-align: middle;\n",
       "    }\n",
       "\n",
       "    .dataframe tbody tr th {\n",
       "        vertical-align: top;\n",
       "    }\n",
       "\n",
       "    .dataframe thead th {\n",
       "        text-align: right;\n",
       "    }\n",
       "</style>\n",
       "<table border=\"1\" class=\"dataframe\">\n",
       "  <thead>\n",
       "    <tr style=\"text-align: right;\">\n",
       "      <th></th>\n",
       "      <th>pl_name</th>\n",
       "      <th>sy_snum</th>\n",
       "      <th>pl_bmassj</th>\n",
       "      <th>pl_radj</th>\n",
       "      <th>pl_orbper</th>\n",
       "      <th>pl_eqt</th>\n",
       "      <th>discoverymethod</th>\n",
       "      <th>disc_year</th>\n",
       "      <th>stellar_temp</th>\n",
       "      <th>st_rad</th>\n",
       "      <th>st_mass</th>\n",
       "      <th>distance_parsecs</th>\n",
       "      <th>pl_orbsmax</th>\n",
       "      <th>pl_insol</th>\n",
       "      <th>pl_controv_flag</th>\n",
       "    </tr>\n",
       "  </thead>\n",
       "  <tbody>\n",
       "    <tr>\n",
       "      <th>0</th>\n",
       "      <td>11 Com b</td>\n",
       "      <td>2</td>\n",
       "      <td>19.400</td>\n",
       "      <td>NaN</td>\n",
       "      <td>326.03000</td>\n",
       "      <td>NaN</td>\n",
       "      <td>Radial Velocity</td>\n",
       "      <td>2007</td>\n",
       "      <td>4742.0</td>\n",
       "      <td>19.00</td>\n",
       "      <td>2.70</td>\n",
       "      <td>93.1846</td>\n",
       "      <td>1.29000</td>\n",
       "      <td>NaN</td>\n",
       "      <td>0</td>\n",
       "    </tr>\n",
       "    <tr>\n",
       "      <th>1</th>\n",
       "      <td>11 Com b</td>\n",
       "      <td>2</td>\n",
       "      <td>17.100</td>\n",
       "      <td>NaN</td>\n",
       "      <td>NaN</td>\n",
       "      <td>NaN</td>\n",
       "      <td>Radial Velocity</td>\n",
       "      <td>2007</td>\n",
       "      <td>NaN</td>\n",
       "      <td>NaN</td>\n",
       "      <td>2.60</td>\n",
       "      <td>93.1846</td>\n",
       "      <td>1.21000</td>\n",
       "      <td>NaN</td>\n",
       "      <td>0</td>\n",
       "    </tr>\n",
       "    <tr>\n",
       "      <th>2</th>\n",
       "      <td>11 Com b</td>\n",
       "      <td>2</td>\n",
       "      <td>15.464</td>\n",
       "      <td>NaN</td>\n",
       "      <td>323.21000</td>\n",
       "      <td>NaN</td>\n",
       "      <td>Radial Velocity</td>\n",
       "      <td>2007</td>\n",
       "      <td>4874.0</td>\n",
       "      <td>13.76</td>\n",
       "      <td>2.09</td>\n",
       "      <td>93.1846</td>\n",
       "      <td>1.17800</td>\n",
       "      <td>NaN</td>\n",
       "      <td>0</td>\n",
       "    </tr>\n",
       "    <tr>\n",
       "      <th>3</th>\n",
       "      <td>11 UMi b</td>\n",
       "      <td>1</td>\n",
       "      <td>14.740</td>\n",
       "      <td>NaN</td>\n",
       "      <td>516.21997</td>\n",
       "      <td>NaN</td>\n",
       "      <td>Radial Velocity</td>\n",
       "      <td>2009</td>\n",
       "      <td>4213.0</td>\n",
       "      <td>29.79</td>\n",
       "      <td>2.78</td>\n",
       "      <td>125.3210</td>\n",
       "      <td>1.53000</td>\n",
       "      <td>NaN</td>\n",
       "      <td>0</td>\n",
       "    </tr>\n",
       "    <tr>\n",
       "      <th>4</th>\n",
       "      <td>11 UMi b</td>\n",
       "      <td>1</td>\n",
       "      <td>10.500</td>\n",
       "      <td>NaN</td>\n",
       "      <td>516.22000</td>\n",
       "      <td>NaN</td>\n",
       "      <td>Radial Velocity</td>\n",
       "      <td>2009</td>\n",
       "      <td>4340.0</td>\n",
       "      <td>24.08</td>\n",
       "      <td>1.80</td>\n",
       "      <td>125.3210</td>\n",
       "      <td>1.54000</td>\n",
       "      <td>NaN</td>\n",
       "      <td>0</td>\n",
       "    </tr>\n",
       "    <tr>\n",
       "      <th>...</th>\n",
       "      <td>...</td>\n",
       "      <td>...</td>\n",
       "      <td>...</td>\n",
       "      <td>...</td>\n",
       "      <td>...</td>\n",
       "      <td>...</td>\n",
       "      <td>...</td>\n",
       "      <td>...</td>\n",
       "      <td>...</td>\n",
       "      <td>...</td>\n",
       "      <td>...</td>\n",
       "      <td>...</td>\n",
       "      <td>...</td>\n",
       "      <td>...</td>\n",
       "      <td>...</td>\n",
       "    </tr>\n",
       "    <tr>\n",
       "      <th>38444</th>\n",
       "      <td>ups And d</td>\n",
       "      <td>2</td>\n",
       "      <td>4.132</td>\n",
       "      <td>NaN</td>\n",
       "      <td>1276.46000</td>\n",
       "      <td>NaN</td>\n",
       "      <td>Radial Velocity</td>\n",
       "      <td>1999</td>\n",
       "      <td>NaN</td>\n",
       "      <td>1.56</td>\n",
       "      <td>1.30</td>\n",
       "      <td>13.4054</td>\n",
       "      <td>2.51329</td>\n",
       "      <td>NaN</td>\n",
       "      <td>0</td>\n",
       "    </tr>\n",
       "    <tr>\n",
       "      <th>38445</th>\n",
       "      <td>ups Leo b</td>\n",
       "      <td>1</td>\n",
       "      <td>0.510</td>\n",
       "      <td>NaN</td>\n",
       "      <td>385.20000</td>\n",
       "      <td>NaN</td>\n",
       "      <td>Radial Velocity</td>\n",
       "      <td>2021</td>\n",
       "      <td>4836.0</td>\n",
       "      <td>11.22</td>\n",
       "      <td>1.48</td>\n",
       "      <td>52.5973</td>\n",
       "      <td>1.18000</td>\n",
       "      <td>NaN</td>\n",
       "      <td>0</td>\n",
       "    </tr>\n",
       "    <tr>\n",
       "      <th>38446</th>\n",
       "      <td>xi Aql b</td>\n",
       "      <td>1</td>\n",
       "      <td>2.020</td>\n",
       "      <td>NaN</td>\n",
       "      <td>NaN</td>\n",
       "      <td>NaN</td>\n",
       "      <td>Radial Velocity</td>\n",
       "      <td>2007</td>\n",
       "      <td>NaN</td>\n",
       "      <td>NaN</td>\n",
       "      <td>1.40</td>\n",
       "      <td>56.1858</td>\n",
       "      <td>0.58000</td>\n",
       "      <td>NaN</td>\n",
       "      <td>0</td>\n",
       "    </tr>\n",
       "    <tr>\n",
       "      <th>38447</th>\n",
       "      <td>xi Aql b</td>\n",
       "      <td>1</td>\n",
       "      <td>2.800</td>\n",
       "      <td>NaN</td>\n",
       "      <td>136.75000</td>\n",
       "      <td>NaN</td>\n",
       "      <td>Radial Velocity</td>\n",
       "      <td>2007</td>\n",
       "      <td>4780.0</td>\n",
       "      <td>12.00</td>\n",
       "      <td>2.20</td>\n",
       "      <td>56.1858</td>\n",
       "      <td>0.68000</td>\n",
       "      <td>NaN</td>\n",
       "      <td>0</td>\n",
       "    </tr>\n",
       "    <tr>\n",
       "      <th>38448</th>\n",
       "      <td>xi Aql b</td>\n",
       "      <td>1</td>\n",
       "      <td>1.941</td>\n",
       "      <td>NaN</td>\n",
       "      <td>136.97000</td>\n",
       "      <td>NaN</td>\n",
       "      <td>Radial Velocity</td>\n",
       "      <td>2007</td>\n",
       "      <td>4841.0</td>\n",
       "      <td>10.86</td>\n",
       "      <td>1.74</td>\n",
       "      <td>56.1858</td>\n",
       "      <td>0.62500</td>\n",
       "      <td>NaN</td>\n",
       "      <td>0</td>\n",
       "    </tr>\n",
       "  </tbody>\n",
       "</table>\n",
       "<p>38449 rows × 15 columns</p>\n",
       "</div>"
      ],
      "text/plain": [
       "         pl_name  sy_snum  pl_bmassj  pl_radj   pl_orbper  pl_eqt  \\\n",
       "0       11 Com b        2     19.400      NaN   326.03000     NaN   \n",
       "1       11 Com b        2     17.100      NaN         NaN     NaN   \n",
       "2       11 Com b        2     15.464      NaN   323.21000     NaN   \n",
       "3       11 UMi b        1     14.740      NaN   516.21997     NaN   \n",
       "4       11 UMi b        1     10.500      NaN   516.22000     NaN   \n",
       "...          ...      ...        ...      ...         ...     ...   \n",
       "38444  ups And d        2      4.132      NaN  1276.46000     NaN   \n",
       "38445  ups Leo b        1      0.510      NaN   385.20000     NaN   \n",
       "38446   xi Aql b        1      2.020      NaN         NaN     NaN   \n",
       "38447   xi Aql b        1      2.800      NaN   136.75000     NaN   \n",
       "38448   xi Aql b        1      1.941      NaN   136.97000     NaN   \n",
       "\n",
       "       discoverymethod  disc_year  stellar_temp  st_rad  st_mass  \\\n",
       "0      Radial Velocity       2007        4742.0   19.00     2.70   \n",
       "1      Radial Velocity       2007           NaN     NaN     2.60   \n",
       "2      Radial Velocity       2007        4874.0   13.76     2.09   \n",
       "3      Radial Velocity       2009        4213.0   29.79     2.78   \n",
       "4      Radial Velocity       2009        4340.0   24.08     1.80   \n",
       "...                ...        ...           ...     ...      ...   \n",
       "38444  Radial Velocity       1999           NaN    1.56     1.30   \n",
       "38445  Radial Velocity       2021        4836.0   11.22     1.48   \n",
       "38446  Radial Velocity       2007           NaN     NaN     1.40   \n",
       "38447  Radial Velocity       2007        4780.0   12.00     2.20   \n",
       "38448  Radial Velocity       2007        4841.0   10.86     1.74   \n",
       "\n",
       "       distance_parsecs  pl_orbsmax  pl_insol  pl_controv_flag  \n",
       "0               93.1846     1.29000       NaN                0  \n",
       "1               93.1846     1.21000       NaN                0  \n",
       "2               93.1846     1.17800       NaN                0  \n",
       "3              125.3210     1.53000       NaN                0  \n",
       "4              125.3210     1.54000       NaN                0  \n",
       "...                 ...         ...       ...              ...  \n",
       "38444           13.4054     2.51329       NaN                0  \n",
       "38445           52.5973     1.18000       NaN                0  \n",
       "38446           56.1858     0.58000       NaN                0  \n",
       "38447           56.1858     0.68000       NaN                0  \n",
       "38448           56.1858     0.62500       NaN                0  \n",
       "\n",
       "[38449 rows x 15 columns]"
      ]
     },
     "execution_count": 8,
     "metadata": {},
     "output_type": "execute_result"
    }
   ],
   "source": [
    "new_names = {\n",
    "    \"st_teff\": \"stellar_temp\",\n",
    "    \"sy_dist\": \"distance_parsecs\",\n",
    "}\n",
    "df = df.rename(new_names, axis=1)\n",
    "df"
   ]
  },
  {
   "cell_type": "markdown",
   "id": "364cfabd",
   "metadata": {},
   "source": [
    "6 - Afficher le taux de remplissage de chaque colonne."
   ]
  },
  {
   "cell_type": "code",
   "execution_count": 9,
   "id": "e09f92e4",
   "metadata": {},
   "outputs": [
    {
     "name": "stdout",
     "output_type": "stream",
     "text": [
      "Taux de remplissage de chaque colonne :\n"
     ]
    },
    {
     "data": {
      "text/plain": [
       "pl_name              0.000000\n",
       "sy_snum              0.000000\n",
       "pl_bmassj           82.738173\n",
       "pl_radj             31.025514\n",
       "pl_orbper            8.330516\n",
       "pl_eqt              56.336966\n",
       "discoverymethod      0.000000\n",
       "disc_year            0.000000\n",
       "stellar_temp         8.346121\n",
       "st_rad               7.732321\n",
       "st_mass             15.100523\n",
       "distance_parsecs     2.184712\n",
       "pl_orbsmax          43.702047\n",
       "pl_insol            56.284949\n",
       "pl_controv_flag      0.000000\n",
       "dtype: float64"
      ]
     },
     "execution_count": 9,
     "metadata": {},
     "output_type": "execute_result"
    }
   ],
   "source": [
    "print(\"Taux de remplissage de chaque colonne :\")\n",
    "df.isnull().mean() * 100"
   ]
  },
  {
   "cell_type": "markdown",
   "id": "824c0b36",
   "metadata": {},
   "source": [
    "7 - Repérer où sont les valeurs nulles et proposer une explication. Est-ce que ces valeurs n’existent pas ou est-ce qu’elle n’ont pas été remplies ?"
   ]
  },
  {
   "cell_type": "code",
   "execution_count": null,
   "id": "80a7b6d4",
   "metadata": {},
   "outputs": [
    {
     "name": "stdout",
     "output_type": "stream",
     "text": [
      "Valeurs nulles dans le dataset :\n"
     ]
    },
    {
     "data": {
      "text/plain": [
       "pl_name                 0\n",
       "sy_snum                 0\n",
       "pl_bmassj           31812\n",
       "pl_radj             11929\n",
       "pl_orbper            3203\n",
       "pl_eqt              21661\n",
       "discoverymethod         0\n",
       "disc_year               0\n",
       "stellar_temp         3209\n",
       "st_rad               2973\n",
       "st_mass              5806\n",
       "distance_parsecs      840\n",
       "pl_orbsmax          16803\n",
       "pl_insol            21641\n",
       "pl_controv_flag         0\n",
       "dtype: int64"
      ]
     },
     "execution_count": 10,
     "metadata": {},
     "output_type": "execute_result"
    }
   ],
   "source": [
    "print(\"Valeurs nulles dans le dataset :\")\n",
    "df.isnull().sum()\n",
    "# ces valeurs nulles existent mais les calculs n'ont pas été effectués pour obtenir les résultats , selon la distance de la planète, sa masse, son rayon, etc et le type de données peut varier."
   ]
  },
  {
   "cell_type": "markdown",
   "id": "8aafb268",
   "metadata": {},
   "source": [
    "# Quelques comptes"
   ]
  },
  {
   "cell_type": "markdown",
   "id": "e29610b1",
   "metadata": {},
   "source": [
    "8 - Combien y a-t-il de planètes différentes découvertes ?"
   ]
  },
  {
   "cell_type": "code",
   "execution_count": 11,
   "id": "cad90d9e",
   "metadata": {},
   "outputs": [
    {
     "name": "stdout",
     "output_type": "stream",
     "text": [
      "Planètes unique :  5903\n"
     ]
    }
   ],
   "source": [
    "print(\"Planètes unique : \", df.pl_name.nunique())"
   ]
  },
  {
   "cell_type": "markdown",
   "id": "90df5596",
   "metadata": {},
   "source": [
    "9 - Combien y a-t-il de systèmes doubles ? (c’est-à-dire de systèmes de planètes orbitant autour de deux étoiles)"
   ]
  },
  {
   "cell_type": "code",
   "execution_count": 12,
   "id": "ffeb2f0b",
   "metadata": {},
   "outputs": [
    {
     "name": "stdout",
     "output_type": "stream",
     "text": [
      "Systèmes doubles :  2932\n"
     ]
    }
   ],
   "source": [
    "print(\"Systèmes doubles : \", df[df['sy_snum'] >= 2].shape[0])"
   ]
  },
  {
   "cell_type": "markdown",
   "id": "5eabb9e7",
   "metadata": {},
   "source": [
    "10 - Combien y a-t-il de découvertes controversées ?"
   ]
  },
  {
   "cell_type": "code",
   "execution_count": 13,
   "id": "30297d34",
   "metadata": {},
   "outputs": [
    {
     "name": "stdout",
     "output_type": "stream",
     "text": [
      "Découvertes controversées :  82\n"
     ]
    }
   ],
   "source": [
    "print(\"Découvertes controversées : \", df[df['pl_controv_flag'] >= 1].shape[0])"
   ]
  },
  {
   "cell_type": "markdown",
   "id": "d26c3035",
   "metadata": {},
   "source": [
    "11 - En quelle année a-t-on découvert le plus d’exoplanètes ?"
   ]
  },
  {
   "cell_type": "code",
   "execution_count": 14,
   "id": "2c19c4d2",
   "metadata": {},
   "outputs": [
    {
     "name": "stdout",
     "output_type": "stream",
     "text": [
      "Année avec le plus d'exoplanètes découvertes : 2016\n"
     ]
    }
   ],
   "source": [
    "print(\"Année avec le plus d'exoplanètes découvertes :\" , df['disc_year'].mode()[0])"
   ]
  },
  {
   "cell_type": "markdown",
   "id": "93904fad",
   "metadata": {},
   "source": [
    "12 - Y a-t-il des doublons ? Vous pourrez utiliser les fonctions duplicated() pour répondre à cette question.\t Vous pouvez explorer la fonction drop_duplicates() de Python ensuite pour vous séparer des doublons."
   ]
  },
  {
   "cell_type": "code",
   "execution_count": 15,
   "id": "1d73ecda",
   "metadata": {},
   "outputs": [
    {
     "name": "stdout",
     "output_type": "stream",
     "text": [
      "Doublons dans le dataset :  32546\n",
      "Nombre de lignes avant suppression des doublons :  38449\n",
      "Nombre de lignes après suppression des doublons :  5903\n",
      "Nombre de lignes après regroupement par nom de planète :  5903\n",
      "pl_name                0\n",
      "sy_snum                0\n",
      "pl_bmassj           2886\n",
      "pl_radj             1452\n",
      "pl_orbper            293\n",
      "pl_eqt              1511\n",
      "disc_year              0\n",
      "stellar_temp         439\n",
      "st_rad               579\n",
      "st_mass               36\n",
      "distance_parsecs     122\n",
      "pl_orbsmax           291\n",
      "pl_insol            1780\n",
      "pl_controv_flag        0\n",
      "dtype: int64\n",
      "    pl_name   pl_orbper\n",
      "0  11 Com b   326.03000\n",
      "1  11 Com b         NaN\n",
      "2  11 Com b   323.21000\n",
      "3  11 UMi b   516.21997\n",
      "4  11 UMi b   516.22000\n",
      "5  11 UMi b         NaN\n",
      "6  14 And b   185.84000\n",
      "7  14 And b   186.76000\n",
      "8  14 And b         NaN\n",
      "9  14 Her b  1773.40002\n",
      "                   pl_name    pl_orbper\n",
      "0                 11 Com b   324.620000\n",
      "1                 11 UMi b   516.219985\n",
      "2                 14 And b   186.300000\n",
      "3                 14 Her b  1766.378417\n",
      "4               16 Cyg B b   799.375000\n",
      "5                 17 Sco b   578.380000\n",
      "6                 18 Del b   988.075000\n",
      "7  1RXS J160929.1-210524 b          NaN\n",
      "8                 24 Boo b    30.340300\n",
      "9                 24 Sex b   452.800000\n"
     ]
    }
   ],
   "source": [
    "print(\"Doublons dans le dataset : \", df[\"pl_name\"].duplicated().sum())\n",
    "print(\"Nombre de lignes avant suppression des doublons : \", df[\"pl_name\"].shape[0])\n",
    "print(\"Nombre de lignes après suppression des doublons : \", df[\"pl_name\"].drop_duplicates().shape[0])\n",
    "colonnes_numeriques = df.select_dtypes(include=['number']).columns\n",
    "df_num = df[['pl_name'] + list(colonnes_numeriques)]\n",
    "df_grouped = df_num.groupby('pl_name', as_index=False).mean()\n",
    "print(\"Nombre de lignes après regroupement par nom de planète : \", df_grouped.shape[0])\n",
    "print(df_grouped.isnull().sum())\n",
    "\n",
    "print(df[[\"pl_name\",\"pl_orbper\"]].head(10))\n",
    "print(df_grouped[[\"pl_name\",\"pl_orbper\"]].head(10))"
   ]
  },
  {
   "cell_type": "markdown",
   "id": "8e0ac396",
   "metadata": {},
   "source": [
    "# Analyse univariée et bivariée"
   ]
  },
  {
   "cell_type": "markdown",
   "id": "6d607215",
   "metadata": {},
   "source": [
    "13 - Tracer la distribution de chaque indicateur (fonction histplot() de seaborn)"
   ]
  },
  {
   "cell_type": "code",
   "execution_count": 16,
   "id": "fe72f16c",
   "metadata": {},
   "outputs": [
    {
     "data": {
      "image/png": "[encoded data removed]",
      "text/plain": [
       "<Figure size 800x400 with 1 Axes>"
      ]
     },
     "metadata": {},
     "output_type": "display_data"
    },
    {
     "name": "stdout",
     "output_type": "stream",
     "text": [
      "Distribution de chaque indicateur tracée.\n"
     ]
    }
   ],
   "source": [
    "col = 'sy_snum'  # nom de la colonne spécifique\n",
    "\n",
    "plt.figure(figsize=(8, 4))\n",
    "sns.histplot(df_grouped[col].dropna(), kde=False) \n",
    "plt.title(f'Distribution de {col}')\n",
    "plt.xlabel(col)\n",
    "plt.ylabel('Fréquence')\n",
    "plt.show()\n",
    "print(\"Distribution de chaque indicateur tracée.\")"
   ]
  },
  {
   "cell_type": "markdown",
   "id": "980e179e",
   "metadata": {},
   "source": [
    "14 - Tracer un boxplot pour chaque indicateur (fonction boxplot() de seaborn)"
   ]
  },
  {
   "cell_type": "markdown",
   "id": "9aa12ff8",
   "metadata": {},
   "source": [
    "15 - Calculer la matrice de corrélation et afficher là avec la fonction heatmap() de seaborn. Y a-t-il corrélation entre certaines variables ?"
   ]
  },
  {
   "cell_type": "markdown",
   "id": "7cf08231",
   "metadata": {},
   "source": [
    "# Vérification de la troisième loi de Kepler"
   ]
  },
  {
   "cell_type": "markdown",
   "id": "9062e504",
   "metadata": {},
   "source": [
    "16 - La troisième loi de Kepler est-elle vérifiée dans le dataset ?"
   ]
  },
  {
   "cell_type": "markdown",
   "id": "b97e4d55",
   "metadata": {},
   "source": [
    "# Analyse des exoplanètes par tailles"
   ]
  },
  {
   "cell_type": "markdown",
   "id": "f5e1f8d3",
   "metadata": {},
   "source": [
    "17 - Tracer le graphique suivant :"
   ]
  },
  {
   "cell_type": "markdown",
   "id": "fd95654f",
   "metadata": {},
   "source": [
    "# Analyse des exoplanètes par densité"
   ]
  },
  {
   "cell_type": "markdown",
   "id": "4ab1c2de",
   "metadata": {},
   "source": [
    "18 - Partout où c’est possible, calculez la densité de la planète avec la formule suivante, exprimant le rapport entre la masse de la planète et son volume :"
   ]
  },
  {
   "cell_type": "markdown",
   "id": "f4a34eaf",
   "metadata": {},
   "source": [
    "19 - Remplissez une nouvelle colonne “composition” avec les labels “rocky” (rocheux) ou “gaseous” (gazeux) suivant la densité de la planète. Pour information, voici les données des planètes du Système Solaire et leurs labels :"
   ]
  },
  {
   "cell_type": "markdown",
   "id": "3e6c6047",
   "metadata": {},
   "source": [
    "20 - Quel critère utiliser pour remplir les labels sur la composition à partir des planètes du système solaire ? Vous pourrez utiliser un critère de seuil et un algorithme de classification supervisée, entraîné sur les données du système solaire, puis comparer les résultats."
   ]
  }
 ],
 "metadata": {
  "kernelspec": {
   "display_name": "Python 3",
   "language": "python",
   "name": "python3"
  },
  "language_info": {
   "codemirror_mode": {
    "name": "ipython",
    "version": 3
   },
   "file_extension": ".py",
   "mimetype": "text/x-python",
   "name": "python",
   "nbconvert_exporter": "python",
   "pygments_lexer": "ipython3",
   "version": "3.12.7"
  }
 },
 "nbformat": 4,
 "nbformat_minor": 5
}
